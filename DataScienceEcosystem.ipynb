{
  "metadata": {
    "kernelspec": {
      "name": "python",
      "display_name": "Python (Pyodide)",
      "language": "python"
    },
    "language_info": {
      "codemirror_mode": {
        "name": "python",
        "version": 3
      },
      "file_extension": ".py",
      "mimetype": "text/x-python",
      "name": "python",
      "nbconvert_exporter": "python",
      "pygments_lexer": "ipython3",
      "version": "3.8"
    },
    "toc": {
      "base_numbering": -2
    }
  },
  "nbformat_minor": 5,
  "nbformat": 4,
  "cells": [
    {
      "id": "6dc11501-5284-4cc9-b967-1b29c6a82f22",
      "cell_type": "markdown",
      "source": "# Data Science tools and Ecosystem",
      "metadata": {
        "tags": [],
        "editable": true,
        "slideshow": {
          "slide_type": ""
        }
      }
    },
    {
      "id": "a24ce714-faac-4a76-9a41-1520902ec915",
      "cell_type": "markdown",
      "source": "In this notebook, Data Science Tools and Ecosystem are summarized.\n\nObjectives\n\n* List popular languages for Data Science\n* List popular libraries for Data Science\n* List popular opensource tools Data Science\n",
      "metadata": {}
    },
    {
      "id": "aed6b346-0a02-4e19-be02-396e1b4f9333",
      "cell_type": "markdown",
      "source": "Some of the popular languages that Data Scientists use are:\n\n1. Python\n1. R\n1. SQL\n",
      "metadata": {}
    },
    {
      "id": "95e97b0a-7752-4e8f-a67b-532bef47fd05",
      "cell_type": "markdown",
      "source": "Some of the commonly used libraries used by Data Scientists include:\n\n1. Numpy\n1. Pandas\n1. Matplotlib\n",
      "metadata": {}
    },
    {
      "id": "6383543a-8e88-4f2d-b5b5-0c0143f6eaab",
      "cell_type": "markdown",
      "source": "| Data Science Tools |\n|:-------------------|\n| Jupyter Notebook |\n| VisualStudio |\n| mySQL |\n",
      "metadata": {}
    },
    {
      "id": "8fea2464-d28b-4195-b09c-aec624afcacd",
      "cell_type": "markdown",
      "source": "### Below are a few examples of evaluating arithmetic expressions in Python",
      "metadata": {}
    },
    {
      "id": "36293741-da13-4917-92c0-a27cf41f1d44",
      "cell_type": "code",
      "source": "#This a simple arithmetic expression to mutiply then add integers\n(3*4)+5",
      "metadata": {
        "trusted": true
      },
      "outputs": [
        {
          "execution_count": 1,
          "output_type": "execute_result",
          "data": {
            "text/plain": "17"
          },
          "metadata": {}
        }
      ],
      "execution_count": 1
    },
    {
      "id": "f30da12d-b468-439c-ba4e-d6788755b88f",
      "cell_type": "code",
      "source": "#This will convert 200 minutes to hours by diving by 60.\na=round(200/60)\nprint(a,'hrs')",
      "metadata": {
        "trusted": true
      },
      "outputs": [
        {
          "name": "stdout",
          "output_type": "stream",
          "text": "3 hrs\n"
        }
      ],
      "execution_count": 6
    },
    {
      "id": "2bb7e699-b46d-49f3-91d5-63b84c4c6055",
      "cell_type": "markdown",
      "source": "## Author\nMomodou Krubally",
      "metadata": {}
    }
  ]
}